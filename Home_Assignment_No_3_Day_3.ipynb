{
  "nbformat": 4,
  "nbformat_minor": 0,
  "metadata": {
    "colab": {
      "name": "Home_Assignment_No-3_Day-3.ipynb",
      "provenance": [],
      "collapsed_sections": []
    },
    "kernelspec": {
      "name": "python3",
      "display_name": "Python 3"
    },
    "language_info": {
      "name": "python"
    }
  },
  "cells": [
    {
      "cell_type": "markdown",
      "source": [
        "## **Problem 01**\n",
        "\n",
        "### **Diamond Pattern**\n",
        "\n",
        "Construct a pattern like below with the given size.\n",
        "     \n",
        "        *\n",
        "       * *\n",
        "      * * *\n",
        "     * * * *\n",
        "    * * * * *\n",
        "     * * * *\n",
        "      * * *\n",
        "       * *\n",
        "        *"
      ],
      "metadata": {
        "id": "ge7x8FMBiKxH"
      }
    },
    {
      "cell_type": "code",
      "execution_count": null,
      "metadata": {
        "id": "mfLdOEKoiJ1e"
      },
      "outputs": [],
      "source": [
        "from typing import List\n",
        "\n",
        "STAR, CRLF, SPACE = \"*\", \"\\n\", \" \"\n",
        "LINE_START, LINE_MIDDLE, LINE_END = STAR, SPACE + STAR, \"\""
      ]
    },
    {
      "cell_type": "code",
      "source": [
        "def line(n: int) -> str:\n",
        "    return line_start(n) + line_middle(n) + line_end(n)\n",
        "\n",
        "def line_start(n: int) -> str:\n",
        "    return LINE_START\n",
        "\n",
        "def line_middle(n: int) -> str:\n",
        "    return n * LINE_MIDDLE\n",
        "\n",
        "def line_end(n: int) -> str:\n",
        "    return LINE_END"
      ],
      "metadata": {
        "id": "3NfRljVUiUZm"
      },
      "execution_count": null,
      "outputs": []
    },
    {
      "cell_type": "code",
      "source": [
        "def base_pattern(n: int) -> List[str]:\n",
        "    pattern = []\n",
        "    for line_num in range(n):\n",
        "        pattern.append(line(line_num))\n",
        "    return pattern"
      ],
      "metadata": {
        "id": "8ATPCxlpiUk1"
      },
      "execution_count": null,
      "outputs": []
    },
    {
      "cell_type": "code",
      "source": [
        "print(base_pattern(5))"
      ],
      "metadata": {
        "colab": {
          "base_uri": "https://localhost:8080/"
        },
        "id": "aJrKYZJ-id0O",
        "outputId": "cbbb6824-6629-47a6-dce0-14f63d0457ba"
      },
      "execution_count": null,
      "outputs": [
        {
          "output_type": "stream",
          "name": "stdout",
          "text": [
            "['*', '* *', '* * *', '* * * *', '* * * * *']\n"
          ]
        }
      ]
    },
    {
      "cell_type": "code",
      "source": [
        "def format_pyramid(n: int) -> str:\n",
        "    lines = base_pattern(n)\n",
        "    width = n * 2\n",
        "    pattern = []\n",
        "    for line in lines:\n",
        "        pattern.append(line.center(width))\n",
        "    for line in lines [::-1] [1:]: # Inverse for Upper Pyramid to print Diamond\n",
        "        pattern.append(line.center(width))\n",
        "    return CRLF.join(pattern)"
      ],
      "metadata": {
        "id": "6dV1uj0JielW"
      },
      "execution_count": null,
      "outputs": []
    },
    {
      "cell_type": "code",
      "source": [
        "print(format_pyramid(5))"
      ],
      "metadata": {
        "colab": {
          "base_uri": "https://localhost:8080/"
        },
        "id": "hkk_WhDlilsd",
        "outputId": "5b40434b-aabc-4b45-99fa-5d4ac5903d9b"
      },
      "execution_count": null,
      "outputs": [
        {
          "output_type": "stream",
          "name": "stdout",
          "text": [
            "    *     \n",
            "   * *    \n",
            "  * * *   \n",
            " * * * *  \n",
            "* * * * * \n",
            " * * * *  \n",
            "  * * *   \n",
            "   * *    \n",
            "    *     \n"
          ]
        }
      ]
    },
    {
      "cell_type": "markdown",
      "source": [
        "## **Problem 02**\n",
        "\n",
        "### **Pyramid with \"+-+\" Pattern**\n",
        "\n",
        "Construct a pattern like below with the given size.\n",
        "\n",
        "        +\n",
        "       +-+\n",
        "      +---+\n",
        "     +-----+\n",
        "    +-------+"
      ],
      "metadata": {
        "id": "CbbiIVz_i8tB"
      }
    },
    {
      "cell_type": "code",
      "source": [
        "ADD, CRLF, SUB = \"+\", \"\\n\", \"-\"\n",
        "LINE_START, LINE_MIDDLE, LINE_END = ADD, SUB, ADD"
      ],
      "metadata": {
        "id": "WcrfUmgGjBqd"
      },
      "execution_count": null,
      "outputs": []
    },
    {
      "cell_type": "code",
      "source": [
        "def line(n: int) -> str:\n",
        "    return line_start(n) + line_middle(n) + line_end(n)\n",
        "\n",
        "def line_start(n: int) -> str:\n",
        "    return LINE_START\n",
        "\n",
        "def line_middle(n: int) -> str:\n",
        "    return LINE_MIDDLE * n\n",
        "\n",
        "def line_end(n: int) -> str:\n",
        "    return LINE_END"
      ],
      "metadata": {
        "id": "2gnEJI5ojJ5O"
      },
      "execution_count": null,
      "outputs": []
    },
    {
      "cell_type": "code",
      "source": [
        "def format_plus_minus_pyramid(n: int) -> str:\n",
        "    start = [ADD]\n",
        "    n = (n * 2) - 1\n",
        "    for i in range(1, n, 2):\n",
        "        start.append(line(i))\n",
        "    return start\n"
      ],
      "metadata": {
        "id": "mv0TlYVfjNvO"
      },
      "execution_count": null,
      "outputs": []
    },
    {
      "cell_type": "code",
      "source": [
        "format_plus_minus_pyramid(5)"
      ],
      "metadata": {
        "colab": {
          "base_uri": "https://localhost:8080/"
        },
        "id": "0LW8hj1djYoH",
        "outputId": "afaf3632-f425-44cd-ed83-c7ab2dea1970"
      },
      "execution_count": null,
      "outputs": [
        {
          "output_type": "execute_result",
          "data": {
            "text/plain": [
              "['+', '+-+', '+---+', '+-----+', '+-------+']"
            ]
          },
          "metadata": {},
          "execution_count": 23
        }
      ]
    },
    {
      "cell_type": "code",
      "source": [
        "def pattern_formate(n: int) -> str:\n",
        "    lines = format_plus_minus_pyramid(n)\n",
        "    storage_pattern = []\n",
        "    width = n * 2\n",
        "    for line in lines:\n",
        "        storage_pattern.append(line.center(width))\n",
        "    return CRLF.join(storage_pattern)"
      ],
      "metadata": {
        "id": "NchiWD9vjd1l"
      },
      "execution_count": null,
      "outputs": []
    },
    {
      "cell_type": "code",
      "source": [
        "print(pattern_formate(5))"
      ],
      "metadata": {
        "colab": {
          "base_uri": "https://localhost:8080/"
        },
        "id": "z6Azncj0jj11",
        "outputId": "abad47e2-d0e4-43fa-843b-fa4e68faecaa"
      },
      "execution_count": null,
      "outputs": [
        {
          "output_type": "stream",
          "name": "stdout",
          "text": [
            "    +     \n",
            "   +-+    \n",
            "  +---+   \n",
            " +-----+  \n",
            "+-------+ \n"
          ]
        }
      ]
    }
  ]
}